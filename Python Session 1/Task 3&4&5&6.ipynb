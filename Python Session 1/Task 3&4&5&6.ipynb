{
 "cells": [
  {
   "cell_type": "code",
   "execution_count": 3,
   "id": "da9bd6b2",
   "metadata": {},
   "outputs": [
    {
     "name": "stdout",
     "output_type": "stream",
     "text": [
      "0\n"
     ]
    }
   ],
   "source": [
    "## Intermediate Task 3\n",
    "\n",
    "#user_height_cm = 0\n",
    "#If you dont initialise a variable with a value, it is set to 0\n",
    "print(user_height_cm)"
   ]
  },
  {
   "cell_type": "code",
   "execution_count": 32,
   "id": "7298e3d3",
   "metadata": {},
   "outputs": [
    {
     "name": "stdout",
     "output_type": "stream",
     "text": [
      "Please input your height in cm. 100\n",
      "Please input neighbour1 height in cm. 120\n",
      "Please input neighbour2 height in cm. 140\n",
      "120.0\n"
     ]
    }
   ],
   "source": [
    "user_height_cm = 0\n",
    "user_height_cm = int(input(\"Please input your height in cm. \"))\n",
    "neighbour1_height_cm = int(input(\"Please input neighbour1 height in cm. \"))\n",
    "neighbour2_height_cm = int(input(\"Please input neighbour2 height in cm. \"))\n",
    "average_height = (user_height_cm + neighbour1_height_cm + neighbour2_height_cm)/3\n",
    "print(average_height)"
   ]
  },
  {
   "cell_type": "code",
   "execution_count": null,
   "id": "1c1d5ed5",
   "metadata": {},
   "outputs": [],
   "source": [
    "## Intermediate Task 4\n",
    "\n",
    "#average_height = float(average_height/2.54)\n",
    "#format(average_height, '.2f')\n",
    "\n",
    "average_height = float(round((average_height/2.54), 2))\n",
    "print(average_height)"
   ]
  },
  {
   "cell_type": "code",
   "execution_count": null,
   "id": "d798de51",
   "metadata": {},
   "outputs": [],
   "source": [
    "## Intermediate Task 5\n",
    "\n",
    "average_height_feet = round((average_height/12)//1)\n",
    "average_height_inches = round(average_height % 12)\n",
    "print(str(average_height_feet) + \" feet \" + str(average_height_inches) + \" inches.\")"
   ]
  },
  {
   "cell_type": "code",
   "execution_count": 5,
   "id": "91a27157",
   "metadata": {},
   "outputs": [
    {
     "name": "stdout",
     "output_type": "stream",
     "text": [
      "Please input your height in feet. 6\n",
      "Please input your height in inches. 3\n",
      "Please input neighbour1 height in feet. 6\n",
      "Please input neighbour1 height in inches. 1\n",
      "Please input neighbour2 height in feet. 5\n",
      "Please input neighbour2 height in inches. 8\n",
      "You and your neighbours average around 6 feet 0 inches.\n"
     ]
    }
   ],
   "source": [
    "## Advanced Task 6\n",
    "\n",
    "while True:\n",
    "    try:\n",
    "        user_height_feet = int(input(\"Please input your height in feet. \"))\n",
    "        user_height_inches = int(input(\"Please input your height in inches. \"))\n",
    "        neighbour1_height_feet = int(input(\"Please input neighbour1 height in feet. \"))\n",
    "        neighbour1_height_inches = int(input(\"Please input neighbour1 height in inches. \"))\n",
    "        neighbour2_height_feet = int(input(\"Please input neighbour2 height in feet. \"))\n",
    "        neighbour2_height_inches = int(input(\"Please input neighbour2 height in inches. \"))\n",
    "        break\n",
    "    except:\n",
    "        print(\"Invalid response entered, try again.\")\n",
    "    \n",
    "\n",
    "average_inches = (((user_height_feet + neighbour1_height_feet + neighbour2_height_feet) * 12) + user_height_inches + neighbour1_height_inches + neighbour2_height_inches) / 3\n",
    "average_feet = round((average_inches/12)//1)\n",
    "average_inches = round(average_inches % 12)\n",
    "print(\"You and your neighbours average around \" + str(average_feet) + \" feet \" + str(average_inches) + \" inches.\")"
   ]
  },
  {
   "cell_type": "code",
   "execution_count": null,
   "id": "0dcd6d5b",
   "metadata": {},
   "outputs": [],
   "source": []
  }
 ],
 "metadata": {
  "kernelspec": {
   "display_name": "Python 3 (ipykernel)",
   "language": "python",
   "name": "python3"
  },
  "language_info": {
   "codemirror_mode": {
    "name": "ipython",
    "version": 3
   },
   "file_extension": ".py",
   "mimetype": "text/x-python",
   "name": "python",
   "nbconvert_exporter": "python",
   "pygments_lexer": "ipython3",
   "version": "3.11.4"
  }
 },
 "nbformat": 4,
 "nbformat_minor": 5
}
