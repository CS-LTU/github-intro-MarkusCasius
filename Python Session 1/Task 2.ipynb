{
 "cells": [
  {
   "cell_type": "code",
   "execution_count": 5,
   "id": "92504b98",
   "metadata": {},
   "outputs": [
    {
     "name": "stdout",
     "output_type": "stream",
     "text": [
      "Please input a sentence.How is your day?\n",
      "The sentence is 16 characters long.\n",
      "HOW IS YOUR DAY?\n",
      "how is your day?\n"
     ]
    }
   ],
   "source": [
    "## Basic Task 2\n",
    "\n",
    "Sentence = input(\"Please input a sentence.\")\n",
    "SentenceLength = len(Sentence)\n",
    "print(\"The sentence is \" + str(SentenceLength) + \" characters long.\")\n",
    "print(Sentence.upper())\n",
    "print(Sentence.lower())"
   ]
  }
 ],
 "metadata": {
  "kernelspec": {
   "display_name": "Python 3 (ipykernel)",
   "language": "python",
   "name": "python3"
  },
  "language_info": {
   "codemirror_mode": {
    "name": "ipython",
    "version": 3
   },
   "file_extension": ".py",
   "mimetype": "text/x-python",
   "name": "python",
   "nbconvert_exporter": "python",
   "pygments_lexer": "ipython3",
   "version": "3.11.4"
  }
 },
 "nbformat": 4,
 "nbformat_minor": 5
}
